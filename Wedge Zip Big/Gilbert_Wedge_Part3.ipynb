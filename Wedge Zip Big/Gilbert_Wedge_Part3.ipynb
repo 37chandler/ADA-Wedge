{
 "cells": [
  {
   "cell_type": "code",
   "execution_count": 1,
   "metadata": {},
   "outputs": [],
   "source": [
    "import sqlite3"
   ]
  },
  {
   "cell_type": "code",
   "execution_count": 2,
   "metadata": {},
   "outputs": [],
   "source": [
    "#create database\n",
    "db = sqlite3.connect(\"Gilbert_Wedge.db\") #':memory:') # Make this a directory + file if you want to store the results.\n",
    "cur = db.cursor()\n",
    "db.close()\n",
    "#init_db(cur)"
   ]
  },
  {
   "cell_type": "code",
   "execution_count": 2,
   "metadata": {},
   "outputs": [],
   "source": [
    "#imports for the code\n",
    "from google.cloud import bigquery\n",
    "from google.oauth2 import service_account\n",
    "import os"
   ]
  },
  {
   "cell_type": "code",
   "execution_count": 3,
   "metadata": {},
   "outputs": [],
   "source": [
    "#establish pathways\n",
    "service_path = 'C:\\\\Users\\Jon\\Desktop\\Grad school\\Applied Data Analytics\\Wedge\\ADA-Wedge\\Wedge Zip Big\\\\'\n",
    "service_file = 'gilbert-ada-wedgeproject-75116ed694f5.json' # change this to your authentication information  \n",
    "gbq_proj_id = 'gilbert-ada-wedgeproject' # change this to your poroject. \n",
    "gbq_dataset_id = 'gilbert_wedge'\n",
    "\n",
    "private_key =service_path + service_file"
   ]
  },
  {
   "cell_type": "code",
   "execution_count": 4,
   "metadata": {},
   "outputs": [],
   "source": [
    "#use credentials to establish GBQ connection\n",
    "credentials = service_account.Credentials.from_service_account_file(service_path + service_file)\n",
    "client = bigquery.Client(credentials = credentials, project=gbq_proj_id)"
   ]
  },
  {
   "cell_type": "code",
   "execution_count": 6,
   "metadata": {},
   "outputs": [],
   "source": [
    "#query for first table\n",
    "\n",
    "query = ('''\n",
    "SELECT\n",
    "(EXTRACT(date FROM datetime)) AS date,\n",
    "(EXTRACT(hour FROM datetime)) AS hour,\n",
    "  SUM(total) AS spend,\n",
    "  COUNT(DISTINCT(DATE(datetime) || register_no || emp_no || trans_no)) as Transactions,\n",
    "  sum(CASE WHEN (trans_status = 'V' or trans_status = 'R') THEN -1 ELSE 1 END) as Items\n",
    "FROM `gilbert-ada-wedgeproject.gilbert_wedge.gilbert_wedge_full`\n",
    "WHERE\n",
    "  card_no != 3\n",
    "  AND department != 0\n",
    "  AND department != 15\n",
    "  AND trans_status != 'M'\n",
    "  AND trans_status != 'C'\n",
    "  AND trans_status != 'J'\n",
    "  AND (trans_status = ''\n",
    "    OR trans_status = ' '\n",
    "    OR trans_status = 'V'\n",
    "    OR trans_status = 'R')\n",
    "GROUP BY date, hour\n",
    "ORDER BY date, hour\n",
    "''')\n",
    "\n",
    "query_job = client.query(\n",
    "    query,\n",
    "    location = 'US',\n",
    ")\n",
    "\n",
    "table_one = client.query(query)\n",
    "\n",
    "\n",
    "\n",
    "with open('table1.txt', 'w')as output_file:\n",
    "    for line in table_one:\n",
    "        row = [str(item) for item in line]\n",
    "        output_file.write(','.join(row)+ '\\n')"
   ]
  },
  {
   "cell_type": "code",
   "execution_count": 14,
   "metadata": {},
   "outputs": [
    {
     "data": {
      "text/plain": [
       "<sqlite3.Cursor at 0x1bf66354730>"
      ]
     },
     "execution_count": 14,
     "metadata": {},
     "output_type": "execute_result"
    }
   ],
   "source": [
    "#create table1 in db\n",
    "input_file = 'table1.txt'\n",
    "db = sqlite3.connect(\"Gilbert_Wedge.db\")\n",
    "cur = db.cursor()\n",
    "\n",
    "cur.execute('''DROP TABLE IF EXISTS Table1''')\n",
    "cur.execute('''CREATE TABLE Table1 (\n",
    "    date TIMESTAMP,\n",
    "    hour TIMESTAMP,\n",
    "    sales REAL,\n",
    "    transactions INTEGER,\n",
    "    items TEXT)''')\n",
    "\n"
   ]
  },
  {
   "cell_type": "code",
   "execution_count": 15,
   "metadata": {},
   "outputs": [],
   "source": [
    "#insert query 1 data into table1\n",
    "with open(input_file, 'r', encoding = 'Latin-1') as infile:\n",
    "    for idx,line in enumerate(infile.readlines()):\n",
    "        line = line.strip().split(',')\n",
    "        cur.execute('''\n",
    "        INSERT INTO Table1 (date, hour, sales, transactions, items)\n",
    "        VALUES (?,?,?,?,?)''', line)\n",
    "db.commit()"
   ]
  },
  {
   "cell_type": "code",
   "execution_count": 17,
   "metadata": {},
   "outputs": [],
   "source": [
    "#query for second table\n",
    "\n",
    "query = ('''\n",
    "SELECT\n",
    "card_no,\n",
    "(EXTRACT(year FROM datetime)) AS year,\n",
    "(EXTRACT(month FROM datetime)) AS month,\n",
    "  SUM(total) AS spend,\n",
    "  COUNT(DISTINCT(DATE(datetime) || register_no || emp_no || trans_no)) as Transactions,\n",
    "  sum(CASE WHEN (trans_status = 'V' or trans_status = 'R') THEN -1 ELSE 1 END) as Items,\n",
    "\n",
    "FROM `gilbert-ada-wedgeproject.gilbert_wedge.gilbert_wedge_full`\n",
    "WHERE\n",
    "  card_no != 3\n",
    "  AND department != 0\n",
    "  AND department != 15\n",
    "  AND trans_status != 'M'\n",
    "  AND trans_status != 'C'\n",
    "  AND trans_status != 'J'\n",
    "  AND (trans_status = ''\n",
    "    OR trans_status = ' '\n",
    "    OR trans_status = 'V'\n",
    "    OR trans_status = 'R')\n",
    "GROUP BY card_no, year, month\n",
    "ORDER BY year, month\n",
    "''')\n",
    "\n",
    "query_job = client.query(\n",
    "    query,\n",
    "    location = 'US',\n",
    ")\n",
    "\n",
    "table_two = client.query(query)\n",
    "\n",
    "\n",
    "\n",
    "with open('table2.txt', 'w')as output_file:\n",
    "    for line in table_two:\n",
    "        row = [str(item) for item in line]\n",
    "        output_file.write(','.join(row)+ '\\n')"
   ]
  },
  {
   "cell_type": "code",
   "execution_count": 18,
   "metadata": {},
   "outputs": [
    {
     "data": {
      "text/plain": [
       "<sqlite3.Cursor at 0x15b35694ab0>"
      ]
     },
     "execution_count": 18,
     "metadata": {},
     "output_type": "execute_result"
    }
   ],
   "source": [
    "#create table2 in db\n",
    "input_file = 'table2.txt'\n",
    "db = sqlite3.connect(\"Gilbert_Wedge.db\")\n",
    "cur = db.cursor()\n",
    "\n",
    "cur.execute('''DROP TABLE IF EXISTS Table2''')\n",
    "cur.execute('''CREATE TABLE Table2 (\n",
    "    card_no INTEGER,\n",
    "    year TIMESTAMP,\n",
    "    month TIMESTAMP,\n",
    "    sales REAL,\n",
    "    transactions INTEGER,\n",
    "    items TEXT)''')"
   ]
  },
  {
   "cell_type": "code",
   "execution_count": 19,
   "metadata": {},
   "outputs": [],
   "source": [
    "#insert query 2 data into table2\n",
    "with open(input_file, 'r', encoding = 'Latin-1') as infile:\n",
    "    for idx,line in enumerate(infile.readlines()):\n",
    "        line = line.strip().split(',')\n",
    "        cur.execute('''\n",
    "        INSERT INTO Table2 (card_no, year, month, sales, transactions, items)\n",
    "        VALUES (?,?,?,?,?,?)''', line)\n",
    "db.commit()"
   ]
  },
  {
   "cell_type": "code",
   "execution_count": 20,
   "metadata": {},
   "outputs": [],
   "source": [
    "#query for third table\n",
    "\n",
    "query = ('''\n",
    "SELECT\n",
    "upc,\n",
    "description,\n",
    "a.department,\n",
    "b.department_name,\n",
    "  \n",
    "(EXTRACT(year FROM datetime)) AS year,\n",
    "(EXTRACT(month FROM datetime)) AS month,\n",
    "  SUM(total) AS spend,\n",
    "  COUNT(DISTINCT(DATE(datetime) || register_no || emp_no || trans_no)) as Transactions,\n",
    "  sum(CASE WHEN (trans_status = 'V' or trans_status = 'R') THEN -1 ELSE 1 END) as Items,\n",
    "\n",
    "FROM `gilbert-ada-wedgeproject.gilbert_wedge.gilbert_wedge_full`a\n",
    "LEFT JOIN `gilbert-ada-wedgeproject.gilbert_wedge.dept_name`b\n",
    "ON a.department = b.department\n",
    "WHERE\n",
    "  card_no != 3\n",
    "  AND a.department != 0\n",
    "  AND a.department != 15\n",
    "  AND trans_status != 'M'\n",
    "  AND trans_status != 'C'\n",
    "  AND trans_status != 'J'\n",
    "  AND (trans_status = ''\n",
    "    OR trans_status = ' '\n",
    "    OR trans_status = 'V'\n",
    "    OR trans_status = 'R')\n",
    "GROUP BY upc, description, department, b.department_name,year, month\n",
    "ORDER BY year, month\n",
    "''')\n",
    "\n",
    "query_job = client.query(\n",
    "    query,\n",
    "    location = 'US',\n",
    ")\n",
    "\n",
    "table_two = client.query(query)\n",
    "\n",
    "\n",
    "\n",
    "with open('table3.txt', 'w')as output_file:\n",
    "    for line in table_two:\n",
    "        row = [str(item) for item in line]\n",
    "        output_file.write(','.join(row)+ '\\n')"
   ]
  },
  {
   "cell_type": "code",
   "execution_count": 23,
   "metadata": {},
   "outputs": [
    {
     "data": {
      "text/plain": [
       "<sqlite3.Cursor at 0x15b3569c570>"
      ]
     },
     "execution_count": 23,
     "metadata": {},
     "output_type": "execute_result"
    }
   ],
   "source": [
    "#create table3 in db\n",
    "input_file = 'table3.txt'\n",
    "db = sqlite3.connect(\"Gilbert_Wedge.db\")\n",
    "cur = db.cursor()\n",
    "\n",
    "cur.execute('''DROP TABLE IF EXISTS Table3''')\n",
    "cur.execute('''CREATE TABLE Table3 (\n",
    "    upc STRING,\n",
    "    description STRING,\n",
    "    department FLOAT,\n",
    "    department_name STRING,\n",
    "    year TIMESTAMP,\n",
    "    month TIMESTAMP,\n",
    "    sales REAL,\n",
    "    transactions INTEGER,\n",
    "    items TEXT)''')"
   ]
  },
  {
   "cell_type": "code",
   "execution_count": 24,
   "metadata": {},
   "outputs": [],
   "source": [
    "#insert query 3 data into table3\n",
    "with open(input_file, 'r', encoding = 'Latin-1') as infile:\n",
    "    for idx,line in enumerate(infile.readlines()):\n",
    "        line = line.strip().split(',')\n",
    "        cur.execute('''\n",
    "        INSERT INTO Table3 (upc, description, department, department_name, year, month, sales, transactions, items)\n",
    "        VALUES (?,?,?,?,?,?,?,?,?)''', line)\n",
    "db.commit()"
   ]
  }
 ],
 "metadata": {
  "kernelspec": {
   "display_name": "Python 3",
   "language": "python",
   "name": "python3"
  },
  "language_info": {
   "codemirror_mode": {
    "name": "ipython",
    "version": 3
   },
   "file_extension": ".py",
   "mimetype": "text/x-python",
   "name": "python",
   "nbconvert_exporter": "python",
   "pygments_lexer": "ipython3",
   "version": "3.8.5"
  }
 },
 "nbformat": 4,
 "nbformat_minor": 4
}
