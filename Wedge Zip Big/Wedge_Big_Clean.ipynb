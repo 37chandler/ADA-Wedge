{
 "cells": [
  {
   "cell_type": "code",
   "execution_count": 1,
   "metadata": {},
   "outputs": [],
   "source": [
    "import os"
   ]
  },
  {
   "cell_type": "code",
   "execution_count": 2,
   "metadata": {},
   "outputs": [],
   "source": [
    "from zipfile import ZipFile "
   ]
  },
  {
   "cell_type": "code",
   "execution_count": 3,
   "metadata": {},
   "outputs": [],
   "source": [
    "import csv"
   ]
  },
  {
   "cell_type": "code",
   "execution_count": 4,
   "metadata": {},
   "outputs": [],
   "source": [
    "headers = [\"datetime\",\"register_no\",\"emp_no\",\"trans_no\",\"upc\",\"description\",\"trans_type\",\"trans_subtype\",\"trans_status\",\"department\",\"quantity\",\"Scale\",\"cost\",\"unitPrice\",\"total\",\"regPrice\",\"altPrice\",\"tax\",\"taxexempt\",\"foodstamp\",\"wicable\",\"discount\",\"memDiscount\",\"discountable\",\"discounttype\",\"voided\",\"percentDiscount\",\"ItemQtty\",\"volDiscType\",\"volume\",\"VolSpecial\",\"mixMatch\",\"matched\",\"memType\",\"staff\",\"numflag\",\"itemstatus\",\"tenderstatus\",\"charflag\",\"varflag\",\"batchHeaderID\",\"local\",\"organic\",\"display\",\"receipt\",\"card_no\",\"store\",\"branch\",\"match_id\",\"trans_id\"]"
   ]
  },
  {
   "cell_type": "code",
   "execution_count": 5,
   "metadata": {},
   "outputs": [],
   "source": [
    "# your code here\n",
    "\n",
    "zip_files = os.listdir(\"B_Wedge_Data/\")\n",
    "\n",
    "if not os.path.isdir(\"temp_clean\") : # if folder exists\n",
    "    os.mkdir(\"temp_clean\")           # if not, make it\n",
    "\n",
    "for zip_file in zip_files :\n",
    "    \n",
    "    with ZipFile(\"B_Wedge_Data/\" + zip_file,'r') as my_zip_file : \n",
    "    \n",
    "        files_inside = my_zip_file.namelist()\n",
    "        for zipped_file in files_inside :\n",
    "            sniffer = csv.Sniffer()\n",
    "\n",
    "            #print(f\"Processing {zipped_file} now.\")\n",
    "            \n",
    "            with my_zip_file.open(zipped_file,'r') as input_file :\n",
    "                \n",
    "                output_file_name = input_file.name.replace(\".csv\",\"_clean.csv\")\n",
    "\n",
    "                with open(\"temp_clean/\" + output_file_name,'w') as outfile : \n",
    "                    outfile.write(\",\".join(headers) + \"\\n\")\n",
    "                                    \n",
    "                    rows_printed = 0\n",
    "                    for idx, line in enumerate(input_file) :\n",
    "\n",
    "                        file_has_header = False\n",
    "\n",
    "                        dialect = sniffer.sniff(line.decode(\"utf-8\"))\n",
    "                        line = line.decode(\"utf-8\").strip().split(dialect.delimiter)\n",
    "                        line = [piece.replace('\"','') for piece in line]\n",
    "                        line = [piece.replace('\\\\N','') for piece in line]\n",
    "                        line = [piece.replace('NULL','') for piece in line]\n",
    "                        \n",
    "                        if len(line) != 50:\n",
    "                            new_column = (''.join(line [5:8]))\n",
    "                            del line[5:8]\n",
    "                            line.insert(5,new_column)\n",
    "\n",
    "\n",
    "                        if idx == 0 :\n",
    "                            if 'datetime' in line[0] :\n",
    "                                file_has_header = True\n",
    "\n",
    "                        if file_has_header and idx == 0 :\n",
    "                            # don't print line\n",
    "                            pass\n",
    "                        else : \n",
    "                            outfile.write(\",\".join(line) + \"\\n\")\n",
    "                            rows_printed += 1\n",
    "    #                             pass \n",
    "    #                         else : \n",
    "    #                             print(line)\n",
    "    #                            print(\"I think it's a header\")\n",
    "\n",
    "\n",
    "\n",
    "    #                     if zipped_file == \"file1.csv\" :\n",
    "    #                         line = line.decode(\"utf-8\").strip().split(\"\\t\")\n",
    "    #                     elif zipped_file in [\"file4.csv\",\"file7.csv\"] :\n",
    "    #                         line = line.decode(\"utf-8\").strip().split(\";\")\n",
    "    #                     else :\n",
    "    #                         line = line.decode(\"utf-8\").strip().split(\",\")\n",
    "\n",
    "    #                    print(line)\n",
    "                        #if rows_printed <= 3 :\n",
    "                            #print(line)\n",
    "                        \n",
    "        #print(f\"{zip_file} has this inside it {files_inside}\")\n",
    " "
   ]
  },
  {
   "cell_type": "code",
   "execution_count": null,
   "metadata": {},
   "outputs": [],
   "source": []
  }
 ],
 "metadata": {
  "kernelspec": {
   "display_name": "Python 3",
   "language": "python",
   "name": "python3"
  },
  "language_info": {
   "codemirror_mode": {
    "name": "ipython",
    "version": 3
   },
   "file_extension": ".py",
   "mimetype": "text/x-python",
   "name": "python",
   "nbconvert_exporter": "python",
   "pygments_lexer": "ipython3",
   "version": "3.8.5"
  }
 },
 "nbformat": 4,
 "nbformat_minor": 2
}
