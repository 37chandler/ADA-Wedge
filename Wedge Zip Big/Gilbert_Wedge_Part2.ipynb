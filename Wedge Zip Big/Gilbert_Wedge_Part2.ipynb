{
 "cells": [
  {
   "cell_type": "code",
   "execution_count": 1,
   "metadata": {},
   "outputs": [],
   "source": [
    "import random\n",
    "\n",
    "from google.cloud import bigquery\n",
    "from google.oauth2 import service_account\n",
    "\n",
    "service_path = 'C:\\\\Users\\Jon\\Desktop\\Grad school\\Applied Data Analytics\\Wedge\\ADA-Wedge\\Wedge Zip Big\\\\'\n",
    "service_file = 'gilbert-ada-wedgeproject-75116ed694f5.json'  \n",
    "gbq_proj_id = 'gilbert-ada-wedgeproject' \n",
    "gbq_dataset_id = 'gilbert_wedge'\n",
    " \n",
    "private_key =service_path + service_file\n",
    "\n",
    "credentials = service_account.Credentials.from_service_account_file(service_path + service_file)\n",
    "client = bigquery.Client(credentials = credentials, project=gbq_proj_id)\n",
    "\n"
   ]
  },
  {
   "cell_type": "code",
   "execution_count": 2,
   "metadata": {},
   "outputs": [],
   "source": [
    "query = ('''\n",
    "    Select DISTINCT card_no\n",
    "    FROM `gilbert-ada-wedgeproject.gilbert_wedge.gilbert_wedge_full`\n",
    "    WHERE card_no != 3\n",
    "''')\n",
    "\n",
    "query_job = client.query(\n",
    "    query,\n",
    "    location = \"US\",\n",
    ")\n",
    "\n",
    "q_result = client.query(query)#results\n",
    "\n",
    "result_list = []#new list\n",
    "for entry in q_result:\n",
    "    result_list.append(entry)\n",
    "    \n",
    "owners =[]#owner list\n",
    "\n",
    "for counter,entry in enumerate (result_list):\n",
    "    owners.append(result_list[counter][0])"
   ]
  },
  {
   "cell_type": "code",
   "execution_count": 3,
   "metadata": {},
   "outputs": [],
   "source": [
    "print(owners)"
   ]
  },
  {
   "cell_type": "code",
   "execution_count": 4,
   "metadata": {},
   "outputs": [],
   "source": [
    "sample = random.choices(owners, k = 500)"
   ]
  },
  {
   "cell_type": "code",
   "execution_count": 5,
   "metadata": {},
   "outputs": [],
   "source": [
    "query = ('''\n",
    "    Select *\n",
    "    FROM `gilbert-ada-wedgeproject.gilbert_wedge.gilbert_wedge_full`\n",
    "    WHERE card_no in (\n",
    "''')\n",
    "\n",
    "for idx, owner in enumerate(sample):\n",
    "    sample_owners = (str(owner)[:-2])\n",
    "    if idx < len(sample)-1:\n",
    "        query += sample_owners + ','\n",
    "    else:\n",
    "        query += sample_owners + ')'\n",
    "        \n",
    "\n",
    "        \n",
    "query_job = client.query(\n",
    "    query,\n",
    "    location = 'US',\n",
    ")\n",
    "\n",
    "sample_owners_records = client.query(query)"
   ]
  },
  {
   "cell_type": "code",
   "execution_count": 6,
   "metadata": {},
   "outputs": [
    {
     "data": {
      "text/plain": [
       "'21164'"
      ]
     },
     "execution_count": 6,
     "metadata": {},
     "output_type": "execute_result"
    }
   ],
   "source": [
    "sample_owners"
   ]
  },
  {
   "cell_type": "code",
   "execution_count": 7,
   "metadata": {},
   "outputs": [],
   "source": [
    "headers = [\"datetime\",\"register_no\",\"emp_no\",\"trans_no\",\"upc\",\"description\",\"trans_type\",\"trans_subtype\",\"trans_status\",\"department\",\"quantity\",\"Scale\",\"cost\",\"unitPrice\",\"total\",\"regPrice\",\"altPrice\",\"tax\",\"taxexempt\",\"foodstamp\",\"wicable\",\"discount\",\"memDiscount\",\"discountable\",\"discounttype\",\"voided\",\"percentDiscount\",\"ItemQtty\",\"volDiscType\",\"volume\",\"VolSpecial\",\"mixMatch\",\"matched\",\"memType\",\"staff\",\"numflag\",\"itemstatus\",\"tenderstatus\",\"charflag\",\"varflag\",\"batchHeaderID\",\"local\",\"organic\",\"display\",\"receipt\",\"card_no\",\"store\",\"branch\",\"match_id\",\"trans_id\"]"
   ]
  },
  {
   "cell_type": "code",
   "execution_count": 8,
   "metadata": {},
   "outputs": [],
   "source": [
    "with open(\"Gilbert_Part2.txt\", \"w\") as output_file:\n",
    "    output_file.write(','.join(headers)+'\\n')\n",
    "    for line in sample_owners_records:\n",
    "        row = [str(item) for item in line]\n",
    "        output_file.write(','.join(row)+'\\n')"
   ]
  },
  {
   "cell_type": "code",
   "execution_count": null,
   "metadata": {},
   "outputs": [],
   "source": []
  }
 ],
 "metadata": {
  "kernelspec": {
   "display_name": "Python 3",
   "language": "python",
   "name": "python3"
  },
  "language_info": {
   "codemirror_mode": {
    "name": "ipython",
    "version": 3
   },
   "file_extension": ".py",
   "mimetype": "text/x-python",
   "name": "python",
   "nbconvert_exporter": "python",
   "pygments_lexer": "ipython3",
   "version": "3.8.5"
  }
 },
 "nbformat": 4,
 "nbformat_minor": 4
}
